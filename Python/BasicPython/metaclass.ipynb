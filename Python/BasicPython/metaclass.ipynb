{
 "cells": [
  {
   "cell_type": "markdown",
   "id": "b476e119-fcfe-42c6-b07a-64aadd6290c4",
   "metadata": {},
   "source": [
    "# meta clas\n",
    "\n",
    "[ref](https://www.notion.so/py-fe2b1096bac845b58555ddca930a5a5a)\n",
    "\n",
    "劫持了Foo类的创建过程（在创建类的时候做了一些自己的操作）\n",
    "1. 劫持class创建过程\n",
    "1. 修改class的内容\n",
    "1. 返回修改过的class"
   ]
  },
  {
   "cell_type": "code",
   "execution_count": 53,
   "id": "81bcc71d-784e-4250-9ef9-67317edda3d5",
   "metadata": {},
   "outputs": [],
   "source": [
    "class Mymeta(type):\n",
    "    def __init__(self, name, bases, dic): # (cls_name, bases_tuple, attrs_dict)\n",
    "        super().__init__(name, bases, dic)\n",
    "        print('===>Mymeta.__init__')\n",
    "        print(self.__name__)\n",
    "        print(\"dict:　\", dic)\n",
    "        print(self.yaml_tag)\n",
    "\n",
    "    def __new__(cls, *args, **kwargs):\n",
    "        print('===>Mymeta.__new__')\n",
    "        print(\"cls.__name__:\", cls.__name__)\n",
    "        return type.__new__(cls, *args, **kwargs)\n",
    "\n",
    "    def __call__(cls, *args, **kwargs):\n",
    "        print('===>Mymeta.__call__')\n",
    "        print(cls, *args, **kwargs)\n",
    "        obj = cls.__new__(cls)\n",
    "        cls.__init__(cls, *args, **kwargs)\n",
    "        return obj"
   ]
  },
  {
   "cell_type": "code",
   "execution_count": 54,
   "id": "65520d63-05e3-453a-bd9b-5db1aa0cd898",
   "metadata": {},
   "outputs": [
    {
     "name": "stdout",
     "output_type": "stream",
     "text": [
      "===>Mymeta.__new__\n",
      "cls.__name__: Mymeta\n",
      "===>Mymeta.__init__\n",
      "Foo\n",
      "dict:　 {'__module__': '__main__', '__qualname__': 'Foo', 'yaml_tag': '!Foo', '__init__': <function Foo.__init__ at 0x0000020CBFE30670>, '__new__': <function Foo.__new__ at 0x0000020CBFE2FF70>, 'print_name': <function Foo.print_name at 0x0000020CBFE2F550>}\n",
      "!Foo\n"
     ]
    }
   ],
   "source": [
    "class Foo(metaclass=Mymeta):\n",
    "    yaml_tag = '!Foo'\n",
    "\n",
    "    def __init__(self, name):\n",
    "        print('Foo.__init__')\n",
    "        self.name = name\n",
    "\n",
    "    def __new__(cls, *args, **kwargs):\n",
    "        print('Foo.__new__')\n",
    "        return object.__new__(cls)\n",
    "    \n",
    "    def print_name(self):\n",
    "        print(self.name)\n",
    "\n",
    "# create a class name `Foo`"
   ]
  },
  {
   "cell_type": "code",
   "execution_count": 55,
   "id": "05a57a96-04ee-4adf-a7bc-5caa1b777a75",
   "metadata": {},
   "outputs": [
    {
     "name": "stdout",
     "output_type": "stream",
     "text": [
      "===>Mymeta.__call__\n",
      "<class '__main__.Foo'> jack\n",
      "Foo.__new__\n",
      "Foo.__init__\n"
     ]
    }
   ],
   "source": [
    "foo = Foo(\"jack\")"
   ]
  },
  {
   "cell_type": "code",
   "execution_count": 45,
   "id": "14111e8f-7d8e-4339-8836-e6701ef6daba",
   "metadata": {},
   "outputs": [
    {
     "name": "stdout",
     "output_type": "stream",
     "text": [
      "jack\n"
     ]
    }
   ],
   "source": [
    "foo.print_name()"
   ]
  },
  {
   "cell_type": "code",
   "execution_count": 18,
   "id": "68dd19c0-989c-482f-a615-967da6b18399",
   "metadata": {},
   "outputs": [
    {
     "data": {
      "text/plain": [
       "'!Foo'"
      ]
     },
     "execution_count": 18,
     "metadata": {},
     "output_type": "execute_result"
    }
   ],
   "source": [
    "foo.yaml_tag"
   ]
  },
  {
   "cell_type": "markdown",
   "id": "50448a95-5985-42bb-823a-1805416591a3",
   "metadata": {},
   "source": [
    "# `type`\n",
    "The type type, as the default metaclass in Python, defines special methods that new metaclasses can override to implement unique code generation behavior. Here is a brief overview of these \"magic\" methods that exist on a metaclass:\n",
    "\n",
    "1. `__new__`: 产生一个实例类的时候调用This method is called on the Metaclass before an instance of a class based on the metaclass is created\n",
    "1. `__init__`: 在创建实例类之后，用于设置实例类的一些属性 This method is called to set up values after the instance/object is created\n",
    "1. `__prepare__`: Defines the class namespace in a mapping that stores the attributes\n",
    "1. `__call__`: 当实例类创建对象的时候使用   This method is called when the constructor of the new class is to be used to create an object"
   ]
  },
  {
   "cell_type": "code",
   "execution_count": 12,
   "id": "8b39574c-4e38-4aad-8480-94a26c852f44",
   "metadata": {},
   "outputs": [
    {
     "name": "stdout",
     "output_type": "stream",
     "text": [
      "HelloMeta.__call__(), cls=<__main__.TryHello object at 0x0000020CBFDFC940>\n"
     ]
    }
   ],
   "source": [
    "# hello_metaclass.py\n",
    "# A simple metaclass\n",
    "# This metaclass adds a 'hello' method to classes that use the metaclass\n",
    "# meaning, those classes get a 'hello' method with no extra effort\n",
    "# the metaclass takes care of the code generation for us\n",
    "class HelloMeta(type):\n",
    "    # A hello method\n",
    "    def hello(cls):\n",
    "        print(\"greetings from %s, a HelloMeta type class\" % (type(cls())))\n",
    "\n",
    "    # Call the metaclass\n",
    "    def __call__(self, *args, **kwargs): # cap:影响实例创建过程\n",
    "        # create the new class as normal\n",
    "        cls = type.__call__(self, *args)\n",
    "        print(\"HelloMeta.__call__(), cls={}\".format(cls))\n",
    "\n",
    "        # define a new hello method for each of these classes\n",
    "        setattr(cls, \"hello\", self.hello)\n",
    "\n",
    "        # return the class\n",
    "        return cls\n",
    "\n",
    "# Try out the metaclass\n",
    "class TryHello(object, metaclass=HelloMeta):\n",
    "    def greet(self):\n",
    "        self.hello()\n",
    "\n",
    "# Create an instance of the metaclass. It should automatically have a hello method\n",
    "# even though one is not defined manually in the class\n",
    "# in other words, it is added for us by the metaclass\n",
    "greeter = TryHello()\n",
    "# greeter.greet()"
   ]
  },
  {
   "cell_type": "code",
   "execution_count": 14,
   "id": "fdb6a1b3-21d4-4f12-8e0d-2247568034e8",
   "metadata": {},
   "outputs": [
    {
     "name": "stdout",
     "output_type": "stream",
     "text": [
      "HelloMeta.__call__(), cls=<__main__.TryHello object at 0x0000020CBFDFC220>\n",
      "greetings from <class '__main__.TryHello'>, a HelloMeta type class\n"
     ]
    }
   ],
   "source": [
    "greeter.greet()"
   ]
  },
  {
   "cell_type": "code",
   "execution_count": 24,
   "id": "b11a7d40-4ad1-494f-bf53-63b639c35988",
   "metadata": {},
   "outputs": [
    {
     "name": "stdout",
     "output_type": "stream",
     "text": [
      "HelloMeta.__call__(), cls=<__main__.TryHello object at 0x0000020CBFC51580>\n",
      "greetings from <class '__main__.TryHello'>, a HelloMeta type class\n"
     ]
    }
   ],
   "source": [
    "#为什么实例类的实例调用方法的时候，metaclass.__call__方法也会被调用\n",
    "greeter.greet() "
   ]
  },
  {
   "cell_type": "code",
   "execution_count": 13,
   "id": "67ef6d20-3c8f-4a7d-a960-bd625704610f",
   "metadata": {},
   "outputs": [
    {
     "name": "stdout",
     "output_type": "stream",
     "text": [
      "HelloMeta.__call__(), cls=<__main__.TryHello object at 0x0000020CBFDFCBE0>\n",
      "HelloMeta.__call__(), cls=<__main__.TryHello object at 0x0000020CBFDFC160>\n",
      "greetings from <class '__main__.TryHello'>, a HelloMeta type class\n"
     ]
    }
   ],
   "source": [
    "TryHello().greet()"
   ]
  },
  {
   "cell_type": "code",
   "execution_count": 7,
   "id": "64c89e81-5797-4bad-a28a-ccb4d177a37c",
   "metadata": {},
   "outputs": [],
   "source": [
    "stu_cls = type(\"student\", (), {\"name\": \"jack\"})"
   ]
  },
  {
   "cell_type": "code",
   "execution_count": 9,
   "id": "dba8be57-6c3c-436c-a906-07ebb62f3a79",
   "metadata": {},
   "outputs": [],
   "source": [
    "a_stu = stu_cls()"
   ]
  },
  {
   "cell_type": "code",
   "execution_count": 25,
   "id": "c9557307-0ac7-4b62-b7e1-ff2868c0ba96",
   "metadata": {},
   "outputs": [
    {
     "data": {
      "text/plain": [
       "'jack'"
      ]
     },
     "execution_count": 25,
     "metadata": {},
     "output_type": "execute_result"
    }
   ],
   "source": [
    "a_stu.name"
   ]
  }
 ],
 "metadata": {
  "kernelspec": {
   "display_name": "Python 3",
   "language": "python",
   "name": "python3"
  },
  "language_info": {
   "codemirror_mode": {
    "name": "ipython",
    "version": 3
   },
   "file_extension": ".py",
   "mimetype": "text/x-python",
   "name": "python",
   "nbconvert_exporter": "python",
   "pygments_lexer": "ipython3",
   "version": "3.8.8"
  }
 },
 "nbformat": 4,
 "nbformat_minor": 5
}
