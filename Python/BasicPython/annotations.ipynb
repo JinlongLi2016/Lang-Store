{
 "cells": [
  {
   "cell_type": "markdown",
   "id": "b801a130-d3f1-4015-a841-6d1605ae53cd",
   "metadata": {},
   "source": [
    "# 注解(annotation)\n",
    "Python是动态类型的语言，在运行时不会进行类型检查。这带来的问题被网友戏称为“编程一时爽，调试火葬场”。为了解决这个问题，Python引入了注解这个功能。借助注解，可以在程序运行前对代码进行静态检查。\n",
    "\n",
    "注解的引入使得程序运行前可以进行检查，但Python解释器**在运行程序时不会进行类型检查**。\n",
    "\n",
    "注解这个功能有用，但不完全有用。使用的时候需要考量到环境是否支持。\n",
    "1. 参数注解\n",
    "1. 变量注解"
   ]
  },
  {
   "cell_type": "code",
   "execution_count": 1,
   "id": "2a3ea460-44bf-457d-928a-bd67bde0afa3",
   "metadata": {},
   "outputs": [],
   "source": [
    "def greeting(name: str) -> str:\n",
    "    \"function.__doc__ string\"\n",
    "    return 'Hello ' + name"
   ]
  },
  {
   "cell_type": "code",
   "execution_count": 2,
   "id": "a371c96d-ce6e-48f9-ac5b-253cadf49d74",
   "metadata": {},
   "outputs": [
    {
     "data": {
      "text/plain": [
       "{'name': str, 'return': str}"
      ]
     },
     "execution_count": 2,
     "metadata": {},
     "output_type": "execute_result"
    }
   ],
   "source": [
    "greeting.__annotations__"
   ]
  },
  {
   "cell_type": "code",
   "execution_count": 3,
   "id": "87aa21bd-edac-48bc-bfae-44c4da115c19",
   "metadata": {},
   "outputs": [
    {
     "data": {
      "text/plain": [
       "'function.__doc__ string'"
      ]
     },
     "execution_count": 3,
     "metadata": {},
     "output_type": "execute_result"
    }
   ],
   "source": [
    "# 函数的第一行字符串会被存储在 func.__doc__中，作为其文档\n",
    "greeting.__doc__"
   ]
  },
  {
   "cell_type": "code",
   "execution_count": 4,
   "id": "8e68a09d-6ff8-4a57-91cb-b7c03d7c85dd",
   "metadata": {},
   "outputs": [],
   "source": [
    "# 变量注解\n",
    "a: int = 10"
   ]
  },
  {
   "cell_type": "code",
   "execution_count": 5,
   "id": "d550cecd-9a54-491b-b3b4-6659067c173d",
   "metadata": {},
   "outputs": [],
   "source": [
    "# list/tuple/dict注解\n",
    "from typing import List, Tuple, Dict\n",
    "\n",
    "a1: List[int] = [10]"
   ]
  }
 ],
 "metadata": {
  "kernelspec": {
   "display_name": "Python 3",
   "language": "python",
   "name": "python3"
  },
  "language_info": {
   "codemirror_mode": {
    "name": "ipython",
    "version": 3
   },
   "file_extension": ".py",
   "mimetype": "text/x-python",
   "name": "python",
   "nbconvert_exporter": "python",
   "pygments_lexer": "ipython3",
   "version": "3.8.8"
  }
 },
 "nbformat": 4,
 "nbformat_minor": 5
}
