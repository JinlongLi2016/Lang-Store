{
 "cells": [
  {
   "cell_type": "markdown",
   "id": "606858d7-88fb-41e8-a313-6187380354aa",
   "metadata": {},
   "source": [
    "# dataclasses 使用参考"
   ]
  },
  {
   "cell_type": "code",
   "execution_count": 1,
   "id": "c7e12621-3f03-4fd0-85f1-37b12fa9c70d",
   "metadata": {},
   "outputs": [],
   "source": [
    "# https://www.youtube.com/watch?v=vBH6GRJ1REM\n",
    "import dataclasses\n",
    "import inspect\n",
    "from dataclasses import dataclass, field\n",
    "from pprint import pprint\n",
    "from typing import List\n",
    "import attr"
   ]
  },
  {
   "cell_type": "markdown",
   "id": "df6b30cd-45e7-4f16-ac90-bc38284c5fb5",
   "metadata": {},
   "source": [
    "## 原始实现"
   ]
  },
  {
   "cell_type": "code",
   "execution_count": 2,
   "id": "25d65e8f-b226-4884-8052-e67f109af329",
   "metadata": {},
   "outputs": [],
   "source": [
    "class ManualComment:\n",
    "    def __init__(self, id: int, text: str):\n",
    "        self.id: int = id\n",
    "        self.text: str = text\n",
    "\n",
    "    def __repr__(self):\n",
    "        return \"{}(id={}, text={})\".format(self.__class__.__name__, self.id, self.text)\n",
    "\n",
    "    def __eq__(self, other):\n",
    "        if other.__class__ is self.__class__:\n",
    "            return (self.id, self.text) == (other.id, other.text)\n",
    "        else:\n",
    "            return NotImplemented\n",
    "\n",
    "    def __ne__(self, other):\n",
    "        result = self.__eq__(other)\n",
    "        if result is NotImplemented:\n",
    "            return NotImplemented\n",
    "        else:\n",
    "            return not result\n",
    "\n",
    "    def __hash__(self):\n",
    "        return hash((self.__class__, self.id, self.text))\n",
    "\n",
    "    def __lt__(self, other):\n",
    "        if other.__class__ is self.__class__: #类型安全，没有比较不同的类\n",
    "            return (self.id, self.text) < (other.id, other.text)\n",
    "        else:\n",
    "            return NotImplemented\n",
    "\n",
    "    def __le__(self, other):\n",
    "        if other.__class__ is self.__class__:\n",
    "            return (self.id, self.text) <= (other.id, other.text)\n",
    "        else:\n",
    "            return NotImplemented\n",
    "\n",
    "    def __gt__(self, other):\n",
    "        if other.__class__ is self.__class__:\n",
    "            return (self.id, self.text) > (other.id, other.text)\n",
    "        else:\n",
    "            return NotImplemented\n",
    "\n",
    "    def __ge__(self, other):\n",
    "        if other.__class__ is self.__class__:\n",
    "            return (self.id, self.text) >= (other.id, other.text)\n",
    "        else:\n",
    "            return NotImplemented"
   ]
  },
  {
   "cell_type": "markdown",
   "id": "565f37e2-cc03-48eb-a167-129f2ac97d22",
   "metadata": {},
   "source": [
    "可能会将上面这个类放在字典中，因此要实现`__hash__`方法；同时既然可哈了，它的内容最好不可变：通过将数据成员前面添加两个下划线`self.__id`\n",
    "\n",
    "同时为了支持比较，也有必要实现`__le__`&　`__gt__`等方法；functools 提供total_ordering 装饰器，可以只实现`__lt__`,其会自动补全剩下的方法。但是会比较慢，因此自己实现会比较好。"
   ]
  },
  {
   "cell_type": "markdown",
   "id": "8b74d457-f093-472f-9404-0eb2f9ddb1b5",
   "metadata": {},
   "source": [
    "* ManualComment如果再增加一个数据成员 `author`，需要改动哪些地方？ 太复杂了。"
   ]
  },
  {
   "cell_type": "markdown",
   "id": "57351788-f8aa-4c52-83ff-7c9ea4470dd0",
   "metadata": {},
   "source": [
    "##  dataclasses\n",
    "\n",
    "1. 直接指明有哪些数据成员.通过field函数可以指定成员如何初始化、参与哪些行为, etc   \n",
    "1. 可为dataclasses.dataclass dec传参的方式指定有哪些行为。是否可改变(frozen=True)，是否支持排序(order=True)"
   ]
  },
  {
   "cell_type": "code",
   "execution_count": 3,
   "id": "4ad29bb2-92b6-47e6-af40-3ae35872aedd",
   "metadata": {},
   "outputs": [],
   "source": [
    "# frozen = True, immutable\n",
    "# order = True, \n",
    "\n",
    "@dataclass(frozen=True, order=True)\n",
    "class Comment:\n",
    "    id: int\n",
    "    text: str = \"\" # feild(default='')\n",
    "    replies: List[int] = field(default_factory=list, repr=False, compare=False) # mutable default value?\n",
    "        #compare=False, 不参与比较"
   ]
  },
  {
   "cell_type": "code",
   "execution_count": 6,
   "id": "0a4e3eb9-de55-4fd5-9f39-414a74aa3637",
   "metadata": {},
   "outputs": [
    {
     "name": "stdout",
     "output_type": "stream",
     "text": [
      "Comment(id=1, text='I just subscribed!')\n"
     ]
    }
   ],
   "source": [
    "comment = Comment(1, \"I just subscribed!\")\n",
    "print(comment)"
   ]
  },
  {
   "cell_type": "code",
   "execution_count": 12,
   "id": "4834e10a-a6b3-45ba-8e06-6989f047e2ca",
   "metadata": {},
   "outputs": [
    {
     "ename": "FrozenInstanceError",
     "evalue": "cannot assign to field 'id'",
     "output_type": "error",
     "traceback": [
      "\u001b[1;31m---------------------------------------------------------------------------\u001b[0m",
      "\u001b[1;31mFrozenInstanceError\u001b[0m                       Traceback (most recent call last)",
      "\u001b[1;32m<ipython-input-12-429f24a37a2f>\u001b[0m in \u001b[0;36m<module>\u001b[1;34m\u001b[0m\n\u001b[1;32m----> 1\u001b[1;33m \u001b[0mcomment\u001b[0m\u001b[1;33m.\u001b[0m\u001b[0mid\u001b[0m \u001b[1;33m=\u001b[0m \u001b[1;36m3\u001b[0m\u001b[1;33m\u001b[0m\u001b[1;33m\u001b[0m\u001b[0m\n\u001b[0m",
      "\u001b[1;32m<string>\u001b[0m in \u001b[0;36m__setattr__\u001b[1;34m(self, name, value)\u001b[0m\n",
      "\u001b[1;31mFrozenInstanceError\u001b[0m: cannot assign to field 'id'"
     ]
    }
   ],
   "source": [
    "# frozen=True\n",
    "comment.id = 3  # can't immutable"
   ]
  },
  {
   "cell_type": "code",
   "execution_count": 15,
   "id": "4e3ce66a-8647-4666-95c7-8c50c66a66e9",
   "metadata": {},
   "outputs": [
    {
     "data": {
      "text/plain": [
       "True"
      ]
     },
     "execution_count": 15,
     "metadata": {},
     "output_type": "execute_result"
    }
   ],
   "source": [
    "c1 = Comment(20, 'hello')\n",
    "c2 = Comment(30, 'jack')\n",
    "c1 < c2"
   ]
  },
  {
   "cell_type": "markdown",
   "id": "3d99cfaa-796f-42ba-bd1e-04c5c57922be",
   "metadata": {},
   "source": [
    "* default_factory=list #参数的默认参数不能是可变类型，否则会因为多个instance共享一个实例产生难以追踪的错误。因此采用构造工厂的方式，每次初始化都新建一个list"
   ]
  },
  {
   "cell_type": "code",
   "execution_count": 8,
   "id": "e1153efb-8771-4ccd-8dbe-736eb5c99a8e",
   "metadata": {},
   "outputs": [
    {
     "data": {
      "text/plain": [
       "((1, 'I just subscribed!', []),\n",
       " {'id': 1, 'text': 'I just subscribed!', 'replies': []})"
      ]
     },
     "execution_count": 8,
     "metadata": {},
     "output_type": "execute_result"
    }
   ],
   "source": [
    "dataclasses.astuple(comment), dataclasses.asdict(comment)"
   ]
  },
  {
   "cell_type": "code",
   "execution_count": 17,
   "id": "910976f9-1f32-41e1-9a9c-92e96de1392f",
   "metadata": {},
   "outputs": [
    {
     "data": {
      "text/plain": [
       "[('__delattr__',\n",
       "  <function __main__.__create_fn__.<locals>.__delattr__(self, name)>),\n",
       " ('__eq__', <function __main__.__create_fn__.<locals>.__eq__(self, other)>),\n",
       " ('__ge__', <function __main__.__create_fn__.<locals>.__ge__(self, other)>),\n",
       " ('__gt__', <function __main__.__create_fn__.<locals>.__gt__(self, other)>),\n",
       " ('__hash__', <function __main__.__create_fn__.<locals>.__hash__(self)>),\n",
       " ('__init__',\n",
       "  <function __main__.__create_fn__.<locals>.__init__(self, id: int, text: str = '', replies: List[int] = <factory>) -> None>),\n",
       " ('__le__', <function __main__.__create_fn__.<locals>.__le__(self, other)>),\n",
       " ('__lt__', <function __main__.__create_fn__.<locals>.__lt__(self, other)>),\n",
       " ('__repr__', <function __main__.__create_fn__.<locals>.__repr__(self)>),\n",
       " ('__setattr__',\n",
       "  <function __main__.__create_fn__.<locals>.__setattr__(self, name, value)>)]"
      ]
     },
     "execution_count": 17,
     "metadata": {},
     "output_type": "execute_result"
    }
   ],
   "source": [
    "inspect.getmembers(Comment, inspect.isfunction)"
   ]
  },
  {
   "cell_type": "code",
   "execution_count": null,
   "id": "126f4124-8f48-4ea0-a292-e091e3056361",
   "metadata": {},
   "outputs": [],
   "source": [
    "# slots=True 什么意思？"
   ]
  }
 ],
 "metadata": {
  "kernelspec": {
   "display_name": "Python 3",
   "language": "python",
   "name": "python3"
  },
  "language_info": {
   "codemirror_mode": {
    "name": "ipython",
    "version": 3
   },
   "file_extension": ".py",
   "mimetype": "text/x-python",
   "name": "python",
   "nbconvert_exporter": "python",
   "pygments_lexer": "ipython3",
   "version": "3.8.8"
  }
 },
 "nbformat": 4,
 "nbformat_minor": 5
}
